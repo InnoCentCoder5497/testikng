{
 "cells": [
  {
   "cell_type": "code",
   "execution_count": 1,
   "id": "9b48d23b",
   "metadata": {},
   "outputs": [],
   "source": [
    "import pandas as pd\n",
    "import numpy as np"
   ]
  },
  {
   "cell_type": "code",
   "execution_count": 2,
   "id": "74eb77bf",
   "metadata": {},
   "outputs": [],
   "source": [
    "df = pd.read_csv('./training.tsv', sep='\\t', names=['u_id', 'date', 'action'], header = None)\n",
    "\n",
    "df['date'] = pd.to_datetime(df['date'])"
   ]
  },
  {
   "cell_type": "code",
   "execution_count": 4,
   "id": "c1b1e2c9",
   "metadata": {},
   "outputs": [
    {
     "data": {
      "text/plain": [
       "(4918677, 3)"
      ]
     },
     "execution_count": 4,
     "metadata": {},
     "output_type": "execute_result"
    }
   ],
   "source": [
    "df.shape"
   ]
  },
  {
   "cell_type": "code",
   "execution_count": 8,
   "id": "318217b6",
   "metadata": {},
   "outputs": [
    {
     "name": "stderr",
     "output_type": "stream",
     "text": [
      "<ipython-input-8-ea8415b8a3ee>:1: FutureWarning: Treating datetime data as categorical rather than numeric in `.describe` is deprecated and will be removed in a future version of pandas. Specify `datetime_is_numeric=True` to silence this warning and adopt the future behavior now.\n",
      "  df.describe()\n"
     ]
    },
    {
     "data": {
      "text/html": [
       "<div>\n",
       "<style scoped>\n",
       "    .dataframe tbody tr th:only-of-type {\n",
       "        vertical-align: middle;\n",
       "    }\n",
       "\n",
       "    .dataframe tbody tr th {\n",
       "        vertical-align: top;\n",
       "    }\n",
       "\n",
       "    .dataframe thead th {\n",
       "        text-align: right;\n",
       "    }\n",
       "</style>\n",
       "<table border=\"1\" class=\"dataframe\">\n",
       "  <thead>\n",
       "    <tr style=\"text-align: right;\">\n",
       "      <th></th>\n",
       "      <th>u_id</th>\n",
       "      <th>date</th>\n",
       "      <th>action</th>\n",
       "    </tr>\n",
       "  </thead>\n",
       "  <tbody>\n",
       "    <tr>\n",
       "      <th>count</th>\n",
       "      <td>4918677</td>\n",
       "      <td>4918677</td>\n",
       "      <td>4918677</td>\n",
       "    </tr>\n",
       "    <tr>\n",
       "      <th>unique</th>\n",
       "      <td>341568</td>\n",
       "      <td>671</td>\n",
       "      <td>7</td>\n",
       "    </tr>\n",
       "    <tr>\n",
       "      <th>top</th>\n",
       "      <td>2cd311cc3ef2d0c</td>\n",
       "      <td>2014-06-18 00:00:00</td>\n",
       "      <td>EmailOpen</td>\n",
       "    </tr>\n",
       "    <tr>\n",
       "      <th>freq</th>\n",
       "      <td>2718</td>\n",
       "      <td>50184</td>\n",
       "      <td>3191732</td>\n",
       "    </tr>\n",
       "    <tr>\n",
       "      <th>first</th>\n",
       "      <td>NaN</td>\n",
       "      <td>2013-07-01 00:00:00</td>\n",
       "      <td>NaN</td>\n",
       "    </tr>\n",
       "    <tr>\n",
       "      <th>last</th>\n",
       "      <td>NaN</td>\n",
       "      <td>2015-05-02 00:00:00</td>\n",
       "      <td>NaN</td>\n",
       "    </tr>\n",
       "  </tbody>\n",
       "</table>\n",
       "</div>"
      ],
      "text/plain": [
       "                   u_id                 date     action\n",
       "count           4918677              4918677    4918677\n",
       "unique           341568                  671          7\n",
       "top     2cd311cc3ef2d0c  2014-06-18 00:00:00  EmailOpen\n",
       "freq               2718                50184    3191732\n",
       "first               NaN  2013-07-01 00:00:00        NaN\n",
       "last                NaN  2015-05-02 00:00:00        NaN"
      ]
     },
     "execution_count": 8,
     "metadata": {},
     "output_type": "execute_result"
    }
   ],
   "source": [
    "df.describe()"
   ]
  },
  {
   "cell_type": "code",
   "execution_count": 14,
   "id": "7f26e102",
   "metadata": {},
   "outputs": [
    {
     "data": {
      "text/plain": [
       "u_id      0\n",
       "date      0\n",
       "action    0\n",
       "dtype: int64"
      ]
     },
     "execution_count": 14,
     "metadata": {},
     "output_type": "execute_result"
    }
   ],
   "source": [
    "df.isna().sum()\n",
    "\n",
    "df.isnull().sum()"
   ]
  },
  {
   "cell_type": "code",
   "execution_count": 32,
   "id": "431de324",
   "metadata": {},
   "outputs": [
    {
     "data": {
      "text/plain": [
       "<AxesSubplot:>"
      ]
     },
     "execution_count": 32,
     "metadata": {},
     "output_type": "execute_result"
    },
    {
     "data": {
      "image/png": "[encoded data removed]",
      "text/plain": [
       "<Figure size 432x288 with 1 Axes>"
      ]
     },
     "metadata": {
      "needs_background": "light"
     },
     "output_type": "display_data"
    }
   ],
   "source": [
    "df.action.value_counts().plot(kind=\"bar\")"
   ]
  },
  {
   "cell_type": "code",
   "execution_count": 33,
   "id": "a89e5569",
   "metadata": {},
   "outputs": [
    {
     "data": {
      "text/plain": [
       "{'EmailOpen': 0,\n",
       " 'FormSubmit': 1,\n",
       " 'Purchase': 2,\n",
       " 'EmailClickthrough': 3,\n",
       " 'CustomerSupport': 4,\n",
       " 'PageView': 5,\n",
       " 'WebVisit': 6}"
      ]
     },
     "execution_count": 33,
     "metadata": {},
     "output_type": "execute_result"
    }
   ],
   "source": [
    "mapping = {x: i for i, x in enumerate(df.action.unique())}\n",
    "\n",
    "mapping"
   ]
  },
  {
   "cell_type": "code",
   "execution_count": 34,
   "id": "18125696",
   "metadata": {},
   "outputs": [],
   "source": [
    "ndf = df.replace(mapping)"
   ]
  },
  {
   "cell_type": "code",
   "execution_count": 38,
   "id": "98565a4b",
   "metadata": {},
   "outputs": [],
   "source": [
    "action_count = ndf.groupby(['u_id'])['action'].count()"
   ]
  },
  {
   "cell_type": "code",
   "execution_count": 43,
   "id": "555cc935",
   "metadata": {},
   "outputs": [
    {
     "data": {
      "text/plain": [
       "(array([   1,    2,    3,    4,    5,    6,    7,    8,    9,   10,   11,\n",
       "          12,   13,   14,   15,   16,   17,   18,   19,   20,   21,   22,\n",
       "          23,   24,   25,   26,   27,   28,   29,   30,   31,   32,   33,\n",
       "          34,   35,   36,   37,   38,   39,   40,   41,   42,   43,   44,\n",
       "          45,   46,   47,   48,   49,   50,   51,   52,   53,   54,   55,\n",
       "          56,   57,   58,   59,   60,   61,   62,   63,   64,   65,   66,\n",
       "          67,   68,   69,   70,   71,   72,   73,   74,   75,   76,   77,\n",
       "          78,   79,   80,   81,   82,   83,   84,   85,   86,   87,   88,\n",
       "          89,   90,   91,   92,   93,   94,   95,   96,   97,   98,   99,\n",
       "         100,  101,  102,  103,  104,  105,  106,  107,  108,  109,  110,\n",
       "         111,  112,  113,  114,  115,  116,  117,  118,  119,  120,  121,\n",
       "         122,  123,  124,  125,  126,  127,  128,  129,  130,  131,  132,\n",
       "         133,  134,  135,  136,  137,  138,  139,  140,  141,  142,  143,\n",
       "         144,  145,  146,  147,  148,  149,  150,  151,  152,  153,  154,\n",
       "         155,  156,  157,  158,  159,  160,  161,  162,  163,  164,  165,\n",
       "         166,  167,  168,  169,  170,  171,  172,  173,  174,  175,  176,\n",
       "         177,  178,  179,  180,  181,  182,  183,  184,  185,  186,  187,\n",
       "         188,  189,  190,  191,  192,  193,  194,  195,  196,  197,  198,\n",
       "         199,  200,  201,  202,  203,  204,  205,  206,  207,  208,  209,\n",
       "         210,  211,  212,  213,  214,  215,  216,  217,  218,  219,  220,\n",
       "         221,  222,  223,  224,  225,  226,  227,  228,  229,  230,  231,\n",
       "         232,  233,  234,  235,  236,  237,  238,  239,  240,  241,  242,\n",
       "         243,  244,  245,  246,  247,  248,  249,  250,  251,  252,  253,\n",
       "         254,  255,  256,  257,  258,  259,  260,  261,  262,  263,  264,\n",
       "         265,  266,  267,  268,  269,  270,  271,  272,  273,  274,  275,\n",
       "         276,  277,  278,  279,  280,  281,  282,  283,  284,  285,  286,\n",
       "         287,  288,  289,  290,  291,  292,  293,  294,  295,  296,  297,\n",
       "         298,  299,  300,  301,  302,  303,  304,  305,  306,  307,  308,\n",
       "         309,  310,  311,  312,  313,  314,  315,  316,  317,  318,  319,\n",
       "         320,  321,  322,  323,  324,  325,  326,  327,  328,  329,  330,\n",
       "         331,  332,  333,  334,  335,  336,  337,  338,  339,  340,  341,\n",
       "         342,  343,  344,  345,  346,  347,  348,  349,  350,  351,  352,\n",
       "         353,  354,  355,  356,  357,  358,  359,  360,  361,  362,  363,\n",
       "         364,  365,  366,  367,  368,  369,  370,  371,  372,  373,  374,\n",
       "         375,  376,  377,  378,  379,  380,  381,  382,  383,  384,  385,\n",
       "         386,  387,  388,  389,  390,  391,  392,  393,  394,  395,  396,\n",
       "         397,  398,  399,  400,  401,  402,  403,  404,  405,  406,  407,\n",
       "         408,  409,  410,  411,  412,  413,  414,  415,  416,  417,  418,\n",
       "         419,  420,  421,  422,  423,  424,  425,  426,  427,  428,  429,\n",
       "         430,  431,  432,  433,  434,  435,  436,  437,  438,  440,  441,\n",
       "         442,  443,  444,  445,  446,  447,  448,  449,  450,  451,  452,\n",
       "         453,  454,  455,  456,  457,  458,  459,  460,  461,  463,  464,\n",
       "         466,  468,  469,  470,  471,  472,  473,  474,  475,  476,  477,\n",
       "         478,  479,  480,  481,  482,  483,  484,  485,  487,  489,  490,\n",
       "         491,  492,  493,  494,  495,  496,  497,  498,  499,  500,  501,\n",
       "         502,  503,  504,  505,  506,  507,  508,  510,  511,  512,  513,\n",
       "         514,  515,  516,  517,  518,  519,  520,  521,  522,  523,  524,\n",
       "         525,  527,  528,  529,  530,  531,  532,  533,  534,  535,  536,\n",
       "         537,  538,  539,  540,  541,  542,  543,  544,  545,  547,  548,\n",
       "         549,  551,  553,  554,  555,  556,  557,  558,  559,  560,  561,\n",
       "         562,  563,  567,  568,  569,  570,  572,  573,  574,  575,  576,\n",
       "         577,  579,  580,  581,  582,  584,  585,  586,  587,  589,  591,\n",
       "         592,  593,  595,  596,  597,  598,  599,  600,  602,  603,  605,\n",
       "         606,  607,  609,  611,  613,  615,  616,  617,  618,  619,  620,\n",
       "         621,  622,  628,  629,  631,  632,  633,  634,  635,  637,  638,\n",
       "         640,  641,  642,  643,  644,  645,  646,  647,  648,  649,  650,\n",
       "         651,  652,  653,  654,  655,  656,  657,  661,  663,  664,  665,\n",
       "         666,  667,  668,  669,  670,  671,  672,  673,  674,  678,  679,\n",
       "         680,  681,  682,  683,  684,  686,  687,  690,  693,  696,  697,\n",
       "         699,  702,  703,  704,  706,  707,  708,  709,  711,  712,  713,\n",
       "         714,  715,  716,  721,  724,  725,  727,  729,  730,  731,  734,\n",
       "         737,  738,  739,  740,  742,  744,  745,  746,  747,  750,  751,\n",
       "         756,  758,  759,  761,  764,  769,  772,  774,  776,  778,  782,\n",
       "         786,  793,  794,  795,  799,  801,  804,  807,  808,  811,  813,\n",
       "         814,  815,  817,  819,  821,  823,  831,  832,  839,  841,  845,\n",
       "         846,  849,  851,  858,  866,  871,  879,  880,  882,  889,  890,\n",
       "         902,  907,  909,  913,  914,  919,  932,  938,  939,  947,  948,\n",
       "         951,  963,  972,  976,  979,  984,  992,  995, 1008, 1012, 1014,\n",
       "        1016, 1017, 1018, 1019, 1020, 1021, 1022, 1028, 1032, 1035, 1037,\n",
       "        1041, 1044, 1057, 1065, 1073, 1074, 1075, 1078, 1082, 1084, 1088,\n",
       "        1089, 1094, 1095, 1102, 1106, 1108, 1123, 1125, 1131, 1135, 1168,\n",
       "        1169, 1173, 1190, 1196, 1202, 1207, 1209, 1221, 1223, 1224, 1231,\n",
       "        1238, 1253, 1256, 1278, 1306, 1327, 1393, 1395, 1400, 1404, 1420,\n",
       "        1429, 1449, 1504, 1572, 1603, 1620, 1626, 1634, 1660, 1706, 1723,\n",
       "        1734, 1752, 1828, 1965, 1968, 2086, 2718], dtype=int64),\n",
       " array([54558, 69968, 36790, 23749, 18422, 13565, 11376,  9337,  8009,\n",
       "         6817,  6038,  5220,  4904,  4254,  3847,  3494,  3194,  3013,\n",
       "         2701,  2549,  2322,  2181,  1943,  1874,  1693,  1689,  1551,\n",
       "         1388,  1325,  1241,  1212,  1142,  1065,   939,   935,   935,\n",
       "          823,   789,   724,   742,   660,   663,   590,   612,   580,\n",
       "          512,   472,   485,   464,   425,   409,   416,   384,   396,\n",
       "          356,   362,   354,   293,   311,   275,   247,   276,   245,\n",
       "          250,   257,   222,   241,   245,   216,   210,   198,   183,\n",
       "          171,   183,   202,   189,   168,   170,   165,   162,   172,\n",
       "          145,   126,   139,   147,   115,   123,   131,   120,   135,\n",
       "          124,   113,   107,    97,   119,    93,   104,    94,    89,\n",
       "          100,    99,    84,    83,    96,    74,    89,    92,    77,\n",
       "           72,    90,    71,    74,    66,    83,    82,    66,    68,\n",
       "           65,    75,    66,    66,    70,    53,    61,    56,    69,\n",
       "           54,    64,    65,    61,    53,    48,    53,    63,    45,\n",
       "           59,    52,    39,    32,    49,    55,    41,    44,    48,\n",
       "           44,    46,    45,    35,    42,    42,    49,    44,    36,\n",
       "           38,    38,    38,    48,    29,    38,    31,    31,    46,\n",
       "           28,    32,    39,    32,    36,    40,    23,    29,    39,\n",
       "           20,    32,    30,    34,    34,    39,    33,    26,    30,\n",
       "           29,    33,    21,    33,    25,    26,    18,    31,    33,\n",
       "           29,    30,    22,    21,    24,    30,    28,    17,    21,\n",
       "           22,    20,    27,    18,    19,    16,    25,    31,    19,\n",
       "           25,    17,    12,    26,    16,    22,    26,    20,    17,\n",
       "           20,    20,    14,    18,    14,    15,    16,    27,    23,\n",
       "           14,    24,    24,    16,    22,    14,    15,    12,    16,\n",
       "           25,    17,    29,    10,    16,    13,    18,    13,    10,\n",
       "            7,    18,    12,    14,    11,     9,    14,    14,    12,\n",
       "           14,    12,     8,    11,    14,    14,    14,    12,    11,\n",
       "           13,     9,    11,    11,    20,    13,    15,    12,    11,\n",
       "           12,    13,    11,    11,     9,    14,     9,     6,    11,\n",
       "            9,    11,     7,     8,    14,    13,    10,    10,    10,\n",
       "           10,    11,     4,     7,    12,     9,     9,     8,    12,\n",
       "            6,    12,    15,     8,     7,    14,    12,     7,     9,\n",
       "            7,     7,     6,     6,     6,     9,     8,    11,     6,\n",
       "           11,     9,     6,     9,    11,     7,     6,    10,     7,\n",
       "           11,     7,     1,     8,     7,     7,     7,     5,    10,\n",
       "            8,     5,     8,     3,     5,    10,     8,     8,     8,\n",
       "            6,     9,     5,    10,     6,     7,     2,     4,     6,\n",
       "            6,     7,     5,     4,     8,     4,     7,     3,     6,\n",
       "            5,     6,    10,     5,     6,     8,     8,     6,     4,\n",
       "            5,     2,     7,     7,     8,    10,     5,     4,     4,\n",
       "            6,     7,     4,     5,     9,     4,     3,     3,     4,\n",
       "            4,     6,     5,     6,     6,     6,     6,     4,     4,\n",
       "            2,     6,     5,     6,     4,     4,     5,     2,     3,\n",
       "            4,     2,     6,     3,     1,     2,     6,     4,     8,\n",
       "            2,     2,     4,     6,     6,     2,     6,     6,     1,\n",
       "            1,     5,     8,     3,     6,     6,     2,     1,     4,\n",
       "            3,     3,     2,     4,     3,     1,     4,     9,     9,\n",
       "            5,     4,     1,     2,     6,     4,     6,     3,     2,\n",
       "            1,     2,     4,     6,     1,     2,     2,     3,     2,\n",
       "            4,     4,     2,     6,     3,     2,     3,     3,     2,\n",
       "            3,     2,     1,     2,     6,     4,     6,     2,     3,\n",
       "            1,     4,     5,     3,     3,     4,     1,     4,     2,\n",
       "            3,     2,     2,     3,     2,     3,     2,     5,     1,\n",
       "            5,     3,     3,     1,     1,     4,     3,     3,     2,\n",
       "            3,     2,     1,     1,     6,     2,     3,     2,     2,\n",
       "            1,     2,     3,     3,     1,     1,     3,     2,     1,\n",
       "            2,     2,     2,     4,     3,     1,     2,     2,     3,\n",
       "            3,     7,     2,     2,     2,     2,     1,     1,     3,\n",
       "            4,     3,     5,     4,     1,     1,     1,     2,     3,\n",
       "            2,     1,     2,     2,     3,     2,     3,     2,     1,\n",
       "            2,     1,     1,     2,     1,     1,     2,     3,     1,\n",
       "            1,     2,     1,     2,     1,     1,     2,     1,     2,\n",
       "            3,     2,     1,     1,     4,     1,     2,     3,     1,\n",
       "            1,     2,     1,     1,     1,     1,     2,     2,     2,\n",
       "            3,     1,     1,     2,     1,     3,     1,     1,     2,\n",
       "            1,     3,     3,     1,     2,     1,     2,     1,     2,\n",
       "            1,     4,     2,     2,     1,     1,     2,     3,     2,\n",
       "            1,     1,     1,     2,     1,     2,     2,     2,     3,\n",
       "            2,     4,     2,     2,     3,     1,     1,     4,     3,\n",
       "            1,     1,     1,     3,     2,     3,     2,     1,     1,\n",
       "            3,     1,     1,     1,     2,     1,     2,     3,     1,\n",
       "            2,     1,     1,     2,     1,     1,     1,     1,     1,\n",
       "            1,     2,     2,     1,     1,     1,     1,     3,     1,\n",
       "            1,     1,     1,     2,     1,     2,     1,     4,     2,\n",
       "            2,     1,     1,     1,     3,     2,     1,     1,     2,\n",
       "            2,     1,     1,     1,     2,     1,     3,     2,     1,\n",
       "            1,     2,     1,     1,     2,     3,     2,     1,     1,\n",
       "            1,     2,     1,     1,     2,     1,     2,     1,     1,\n",
       "            1,     1,     1,     2,     1,     1,     1,     1,     2,\n",
       "            1,     1,     1,     2,     1,     1,     1,     1,     1,\n",
       "            1,     1,     2,     1,     1,     1,     1,     1,     1,\n",
       "            1,     2,     1,     2,     2,     1,     1,     1,     1,\n",
       "            1,     1,     1,     1,     1,     1,     1,     2,     1,\n",
       "            1,     2,     1,     1,     1,     1,     1,     1,     1,\n",
       "            1,     1,     1,     1,     1,     1,     1,     1,     1,\n",
       "            1,     1,     1,     2,     1,     1,     1,     1,     2,\n",
       "            1,     1,     1,     1,     1,     1,     1,     1,     1,\n",
       "            1,     1,     1,     1,     1,     1,     1,     1,     1,\n",
       "            1,     1,     1,     1,     1,     1,     1,     1,     1,\n",
       "            1,     1], dtype=int64))"
      ]
     },
     "execution_count": 43,
     "metadata": {},
     "output_type": "execute_result"
    }
   ],
   "source": [
    "np.unique(action_count, return_counts=True)"
   ]
  },
  {
   "cell_type": "code",
   "execution_count": 45,
   "id": "115809a9",
   "metadata": {},
   "outputs": [],
   "source": [
    "from nltk import bigrams, trigrams"
   ]
  },
  {
   "cell_type": "code",
   "execution_count": 59,
   "id": "5b7332ce",
   "metadata": {},
   "outputs": [],
   "source": [
    "from collections import Counter, defaultdict\n",
    "\n",
    "# Create a placeholder for model\n",
    "model = defaultdict(lambda: defaultdict(lambda: 0))"
   ]
  },
  {
   "cell_type": "code",
   "execution_count": 49,
   "id": "18a3b565",
   "metadata": {},
   "outputs": [],
   "source": [
    "gps = df.groupby('u_id')"
   ]
  },
  {
   "cell_type": "code",
   "execution_count": 61,
   "id": "fe7123e4",
   "metadata": {},
   "outputs": [],
   "source": [
    "from tqdm import tqdm"
   ]
  },
  {
   "cell_type": "code",
   "execution_count": 62,
   "id": "b47a0bc6",
   "metadata": {},
   "outputs": [
    {
     "name": "stderr",
     "output_type": "stream",
     "text": [
      "100%|████████████████████████████████████████████████████████████████████████| 341568/341568 [00:51<00:00, 6645.17it/s]\n"
     ]
    }
   ],
   "source": [
    "for k, gp in tqdm(gps):\n",
    "    if len(gp) > 1:\n",
    "        #print(k)\n",
    "        bgrams = bigrams(gp.action.values)\n",
    "        for w1, w2 in bgrams:\n",
    "            model[w1][w2] += 1"
   ]
  },
  {
   "cell_type": "code",
   "execution_count": 64,
   "id": "ea47fcda",
   "metadata": {},
   "outputs": [],
   "source": [
    "for w1 in model:\n",
    "    total_count = float(sum(model[w1].values()))\n",
    "    for w2 in model[w1]:\n",
    "        model[w1][w2] /= total_count"
   ]
  },
  {
   "cell_type": "code",
   "execution_count": 65,
   "id": "d8db662b",
   "metadata": {},
   "outputs": [
    {
     "data": {
      "text/plain": [
       "defaultdict(<function __main__.<lambda>()>,\n",
       "            {'EmailOpen': defaultdict(<function __main__.<lambda>.<locals>.<lambda>()>,\n",
       "                         {'FormSubmit': 0.04179457633215824,\n",
       "                          'EmailOpen': 0.8054038404192264,\n",
       "                          'Purchase': 0.04165178733432663,\n",
       "                          'EmailClickthrough': 0.057046965746944234,\n",
       "                          'PageView': 0.05375019656496478,\n",
       "                          'CustomerSupport': 0.0003384335915456291,\n",
       "                          'WebVisit': 1.420001083408234e-05}),\n",
       "             'FormSubmit': defaultdict(<function __main__.<lambda>.<locals>.<lambda>()>,\n",
       "                         {'EmailOpen': 0.41988616278414476,\n",
       "                          'PageView': 0.36562648892623123,\n",
       "                          'EmailClickthrough': 0.09993288624987832,\n",
       "                          'Purchase': 0.05567367347879769,\n",
       "                          'FormSubmit': 0.044300198267338144,\n",
       "                          'WebVisit': 0.014447387430772935,\n",
       "                          'CustomerSupport': 0.0001332028628369136}),\n",
       "             'Purchase': defaultdict(<function __main__.<lambda>.<locals>.<lambda>()>,\n",
       "                         {'Purchase': 0.4004710352880638,\n",
       "                          'EmailClickthrough': 0.03719595463811427,\n",
       "                          'EmailOpen': 0.24502939022700734,\n",
       "                          'CustomerSupport': 0.253612919825044,\n",
       "                          'FormSubmit': 0.007004175985116868,\n",
       "                          'WebVisit': 0.031561343440140915,\n",
       "                          'PageView': 0.025125180596512756}),\n",
       "             'EmailClickthrough': defaultdict(<function __main__.<lambda>.<locals>.<lambda>()>,\n",
       "                         {'FormSubmit': 0.0521993503049589,\n",
       "                          'EmailOpen': 0.8742320781401927,\n",
       "                          'EmailClickthrough': 0.053533545478652876,\n",
       "                          'PageView': 0.012684522231061611,\n",
       "                          'Purchase': 0.007328405374348095,\n",
       "                          'CustomerSupport': 2.209847078582162e-05}),\n",
       "             'CustomerSupport': defaultdict(<function __main__.<lambda>.<locals>.<lambda>()>,\n",
       "                         {'EmailOpen': 0.818796429907541,\n",
       "                          'EmailClickthrough': 0.0944364277697611,\n",
       "                          'PageView': 0.06127411682967238,\n",
       "                          'FormSubmit': 0.025493025493025494}),\n",
       "             'PageView': defaultdict(<function __main__.<lambda>.<locals>.<lambda>()>,\n",
       "                         {'WebVisit': 0.9659742288327933,\n",
       "                          'Purchase': 0.032541247530042235,\n",
       "                          'PageView': 0.0007626536267850479,\n",
       "                          'EmailOpen': 0.0005668922680380837,\n",
       "                          'EmailClickthrough': 0.00012642921085741435,\n",
       "                          'FormSubmit': 2.8548531483932275e-05}),\n",
       "             'WebVisit': defaultdict(<function __main__.<lambda>.<locals>.<lambda>()>,\n",
       "                         {'EmailOpen': 0.4174074936996749,\n",
       "                          'Purchase': 0.0380670025415052,\n",
       "                          'PageView': 0.40942601312861643,\n",
       "                          'EmailClickthrough': 0.11274749750445137,\n",
       "                          'CustomerSupport': 0.0027039563262959217,\n",
       "                          'FormSubmit': 0.019509098332097137,\n",
       "                          'WebVisit': 0.000138938467359079})})"
      ]
     },
     "execution_count": 65,
     "metadata": {},
     "output_type": "execute_result"
    }
   ],
   "source": [
    "model"
   ]
  },
  {
   "cell_type": "code",
   "execution_count": 66,
   "id": "b1845439",
   "metadata": {},
   "outputs": [],
   "source": [
    "trimodel = defaultdict(lambda: defaultdict(lambda: 0))"
   ]
  },
  {
   "cell_type": "code",
   "execution_count": 68,
   "id": "84d59153",
   "metadata": {},
   "outputs": [
    {
     "name": "stderr",
     "output_type": "stream",
     "text": [
      "100%|████████████████████████████████████████████████████████████████████████| 341568/341568 [00:46<00:00, 7413.44it/s]\n"
     ]
    }
   ],
   "source": [
    "for k, gp in tqdm(gps):\n",
    "    if len(gp) > 2:\n",
    "        #print(k)\n",
    "        tgrams = trigrams(gp.action.values)\n",
    "        for w1, w2, w3 in tgrams:\n",
    "            trimodel[(w1, w2)][w3] += 1"
   ]
  },
  {
   "cell_type": "code",
   "execution_count": 69,
   "id": "9b0fdd31",
   "metadata": {},
   "outputs": [],
   "source": [
    "for w1_w2 in trimodel:\n",
    "    total_count = float(sum(trimodel[w1_w2].values()))\n",
    "    for w3 in trimodel[w1_w2]:\n",
    "        trimodel[w1_w2][w3] /= total_count"
   ]
  },
  {
   "cell_type": "code",
   "execution_count": 70,
   "id": "1be3927b",
   "metadata": {},
   "outputs": [
    {
     "data": {
      "text/plain": [
       "defaultdict(<function __main__.<lambda>()>,\n",
       "            {('EmailOpen',\n",
       "              'FormSubmit'): defaultdict(<function __main__.<lambda>.<locals>.<lambda>()>, {'EmailOpen': 0.4432190367475963,\n",
       "                          'PageView': 0.38726785792685603,\n",
       "                          'EmailClickthrough': 0.09658866400316109,\n",
       "                          'Purchase': 0.04585327303859156,\n",
       "                          'FormSubmit': 0.018905035781709618,\n",
       "                          'WebVisit': 0.00809588620099223,\n",
       "                          'CustomerSupport': 7.024630109320806e-05}),\n",
       "             ('FormSubmit',\n",
       "              'EmailOpen'): defaultdict(<function __main__.<lambda>.<locals>.<lambda>()>, {'EmailOpen': 0.7472312048657072,\n",
       "                          'Purchase': 0.0546554295192936,\n",
       "                          'EmailClickthrough': 0.11093611246083475,\n",
       "                          'FormSubmit': 0.05624717256170099,\n",
       "                          'PageView': 0.030913325402543438,\n",
       "                          'WebVisit': 1.6755189920077743e-05}),\n",
       "             ('EmailOpen',\n",
       "              'EmailOpen'): defaultdict(<function __main__.<lambda>.<locals>.<lambda>()>, {'EmailOpen': 0.887017992393409,\n",
       "                          'Purchase': 0.03314759168475689,\n",
       "                          'EmailClickthrough': 0.05027245726254603,\n",
       "                          'PageView': 0.021388017768040453,\n",
       "                          'FormSubmit': 0.00816814250471565,\n",
       "                          'WebVisit': 5.798386532042999e-06}),\n",
       "             ('Purchase',\n",
       "              'Purchase'): defaultdict(<function __main__.<lambda>.<locals>.<lambda>()>, {'Purchase': 0.5840700746048578,\n",
       "                          'EmailClickthrough': 0.023830887289565988,\n",
       "                          'EmailOpen': 0.14154216837230899,\n",
       "                          'CustomerSupport': 0.23057857980962898,\n",
       "                          'FormSubmit': 0.007121657997276829,\n",
       "                          'PageView': 0.012844082749273716,\n",
       "                          'WebVisit': 1.2549177087712473e-05}),\n",
       "             ('Purchase',\n",
       "              'EmailClickthrough'): defaultdict(<function __main__.<lambda>.<locals>.<lambda>()>, {'FormSubmit': 0.052135678391959796,\n",
       "                          'EmailOpen': 0.8648101619207147,\n",
       "                          'EmailClickthrough': 0.027847571189279732,\n",
       "                          'Purchase': 0.04403964265773311,\n",
       "                          'PageView': 0.010817978782802903,\n",
       "                          'CustomerSupport': 0.0003489670575097711}),\n",
       "             ('EmailClickthrough',\n",
       "              'FormSubmit'): defaultdict(<function __main__.<lambda>.<locals>.<lambda>()>, {'EmailOpen': 0.5568346715681532,\n",
       "                          'EmailClickthrough': 0.22337235174615458,\n",
       "                          'PageView': 0.0969333462319822,\n",
       "                          'Purchase': 0.09258005223952791,\n",
       "                          'FormSubmit': 0.02950565928219019,\n",
       "                          'CustomerSupport': 0.0003869594659959369,\n",
       "                          'WebVisit': 0.0003869594659959369}),\n",
       "             ('EmailOpen',\n",
       "              'Purchase'): defaultdict(<function __main__.<lambda>.<locals>.<lambda>()>, {'Purchase': 0.22913632661121122,\n",
       "                          'CustomerSupport': 0.1701593727116399,\n",
       "                          'EmailOpen': 0.5012958803347074,\n",
       "                          'EmailClickthrough': 0.06296744254930516,\n",
       "                          'FormSubmit': 0.006960728654999629,\n",
       "                          'PageView': 0.029447337891540987,\n",
       "                          'WebVisit': 3.291124659574293e-05}),\n",
       "             ('Purchase',\n",
       "              'EmailOpen'): defaultdict(<function __main__.<lambda>.<locals>.<lambda>()>, {'EmailOpen': 0.5857293423271501,\n",
       "                          'Purchase': 0.26917158516020234,\n",
       "                          'EmailClickthrough': 0.06409148397976391,\n",
       "                          'FormSubmit': 0.020531197301854976,\n",
       "                          'PageView': 0.051001264755480606,\n",
       "                          'CustomerSupport': 0.009443507588532884,\n",
       "                          'WebVisit': 3.161888701517706e-05}),\n",
       "             ('Purchase',\n",
       "              'CustomerSupport'): defaultdict(<function __main__.<lambda>.<locals>.<lambda>()>, {'EmailOpen': 0.8271981760011767,\n",
       "                          'EmailClickthrough': 0.09355348803000772,\n",
       "                          'PageView': 0.05288125620564116,\n",
       "                          'FormSubmit': 0.026367079763174345}),\n",
       "             ('CustomerSupport',\n",
       "              'EmailOpen'): defaultdict(<function __main__.<lambda>.<locals>.<lambda>()>, {'EmailOpen': 0.88328125,\n",
       "                          'EmailClickthrough': 0.06177083333333333,\n",
       "                          'FormSubmit': 0.017395833333333333,\n",
       "                          'PageView': 0.0375,\n",
       "                          'WebVisit': 5.208333333333334e-05}),\n",
       "             ('EmailOpen',\n",
       "              'EmailClickthrough'): defaultdict(<function __main__.<lambda>.<locals>.<lambda>()>, {'EmailOpen': 0.9325734867244055,\n",
       "                          'EmailClickthrough': 0.019637927561816523,\n",
       "                          'FormSubmit': 0.036645616861959884,\n",
       "                          'PageView': 0.007150219778917811,\n",
       "                          'Purchase': 0.003992749072900252}),\n",
       "             ('EmailClickthrough',\n",
       "              'EmailOpen'): defaultdict(<function __main__.<lambda>.<locals>.<lambda>()>, {'EmailClickthrough': 0.08841817843327886,\n",
       "                          'EmailOpen': 0.3041267608547256,\n",
       "                          'PageView': 0.20761227064931842,\n",
       "                          'FormSubmit': 0.37125540409159546,\n",
       "                          'Purchase': 0.028492232587965165,\n",
       "                          'CustomerSupport': 9.101627950272015e-05,\n",
       "                          'WebVisit': 4.137103613760006e-06}),\n",
       "             ('EmailOpen',\n",
       "              'PageView'): defaultdict(<function __main__.<lambda>.<locals>.<lambda>()>, {'WebVisit': 0.9614730412459137,\n",
       "                          'Purchase': 0.037717595432155755,\n",
       "                          'EmailOpen': 0.0005058520762066152,\n",
       "                          'PageView': 0.0002086639814352288,\n",
       "                          'EmailClickthrough': 8.220096238357498e-05,\n",
       "                          'FormSubmit': 1.2646301905165381e-05}),\n",
       "             ('PageView',\n",
       "              'WebVisit'): defaultdict(<function __main__.<lambda>.<locals>.<lambda>()>, {'EmailOpen': 0.4126457708295938,\n",
       "                          'Purchase': 0.03597366224190051,\n",
       "                          'PageView': 0.4197687041105023,\n",
       "                          'EmailClickthrough': 0.11161921368514925,\n",
       "                          'FormSubmit': 0.019038176073212357,\n",
       "                          'CustomerSupport': 0.0008917912467697498,\n",
       "                          'WebVisit': 6.268181287199518e-05}),\n",
       "             ('FormSubmit',\n",
       "              'PageView'): defaultdict(<function __main__.<lambda>.<locals>.<lambda>()>, {'WebVisit': 0.9668130444172486,\n",
       "                          'Purchase': 0.03248506227053488,\n",
       "                          'EmailOpen': 0.00034194802390036716,\n",
       "                          'PageView': 0.00017997264415808796,\n",
       "                          'EmailClickthrough': 0.0001439781153264704,\n",
       "                          'FormSubmit': 3.59945288316176e-05}),\n",
       "             ('FormSubmit',\n",
       "              'EmailClickthrough'): defaultdict(<function __main__.<lambda>.<locals>.<lambda>()>, {'FormSubmit': 0.09549264172111133,\n",
       "                          'EmailOpen': 0.8431333729294529,\n",
       "                          'EmailClickthrough': 0.048307265887942985,\n",
       "                          'Purchase': 0.007589256252887217,\n",
       "                          'PageView': 0.0054774632086055566}),\n",
       "             ('FormSubmit',\n",
       "              'Purchase'): defaultdict(<function __main__.<lambda>.<locals>.<lambda>()>, {'Purchase': 0.28103864734299516,\n",
       "                          'CustomerSupport': 0.153743961352657,\n",
       "                          'EmailOpen': 0.40060386473429954,\n",
       "                          'PageView': 0.02318840579710145,\n",
       "                          'FormSubmit': 0.0286231884057971,\n",
       "                          'EmailClickthrough': 0.1105072463768116,\n",
       "                          'WebVisit': 0.002294685990338164}),\n",
       "             ('WebVisit',\n",
       "              'Purchase'): defaultdict(<function __main__.<lambda>.<locals>.<lambda>()>, {'EmailOpen': 0.2892706361915854,\n",
       "                          'CustomerSupport': 0.15912068714514485,\n",
       "                          'PageView': 0.27318386955888774,\n",
       "                          'Purchase': 0.19901004513029552,\n",
       "                          'FormSubmit': 0.01201048187509099,\n",
       "                          'EmailClickthrough': 0.06740428009899549}),\n",
       "             ('WebVisit',\n",
       "              'EmailOpen'): defaultdict(<function __main__.<lambda>.<locals>.<lambda>()>, {'Purchase': 0.048725379776392054,\n",
       "                          'PageView': 0.35757355163036014,\n",
       "                          'EmailOpen': 0.4758742411339725,\n",
       "                          'EmailClickthrough': 0.08035738812735214,\n",
       "                          'FormSubmit': 0.03678955031178749,\n",
       "                          'CustomerSupport': 0.0005150674394967448,\n",
       "                          'WebVisit': 0.00016482158063895833}),\n",
       "             ('CustomerSupport',\n",
       "              'EmailClickthrough'): defaultdict(<function __main__.<lambda>.<locals>.<lambda>()>, {'EmailOpen': 0.8945386064030132,\n",
       "                          'FormSubmit': 0.0696798493408663,\n",
       "                          'EmailClickthrough': 0.03088512241054614,\n",
       "                          'PageView': 0.004896421845574388}),\n",
       "             ('EmailClickthrough',\n",
       "              'EmailClickthrough'): defaultdict(<function __main__.<lambda>.<locals>.<lambda>()>, {'EmailOpen': 0.3301808066759388,\n",
       "                          'FormSubmit': 0.05890125173852573,\n",
       "                          'EmailClickthrough': 0.5684283727399165,\n",
       "                          'PageView': 0.01912378303198887,\n",
       "                          'Purchase': 0.023365785813630042}),\n",
       "             ('WebVisit',\n",
       "              'PageView'): defaultdict(<function __main__.<lambda>.<locals>.<lambda>()>, {'WebVisit': 0.9758768143849351,\n",
       "                          'Purchase': 0.021759339185402585,\n",
       "                          'EmailOpen': 0.0006972018963891582,\n",
       "                          'EmailClickthrough': 0.0002058405598863229,\n",
       "                          'PageView': 0.0014143238469608637,\n",
       "                          'FormSubmit': 4.648012642594388e-05}),\n",
       "             ('WebVisit',\n",
       "              'EmailClickthrough'): defaultdict(<function __main__.<lambda>.<locals>.<lambda>()>, {'EmailOpen': 0.9302251590797846,\n",
       "                          'FormSubmit': 0.01708272148800783,\n",
       "                          'PageView': 0.042951541850220265,\n",
       "                          'EmailClickthrough': 0.008516886930983847,\n",
       "                          'Purchase': 0.0012236906510034262}),\n",
       "             ('Purchase',\n",
       "              'FormSubmit'): defaultdict(<function __main__.<lambda>.<locals>.<lambda>()>, {'EmailOpen': 0.27472527472527475,\n",
       "                          'Purchase': 0.37142857142857144,\n",
       "                          'EmailClickthrough': 0.07765567765567766,\n",
       "                          'PageView': 0.18644688644688645,\n",
       "                          'CustomerSupport': 0.002564102564102564,\n",
       "                          'WebVisit': 0.014285714285714285,\n",
       "                          'FormSubmit': 0.0728937728937729}),\n",
       "             ('PageView',\n",
       "              'Purchase'): defaultdict(<function __main__.<lambda>.<locals>.<lambda>()>, {'WebVisit': 0.9972431077694236,\n",
       "                          'EmailOpen': 0.0010025062656641604,\n",
       "                          'PageView': 0.0007518796992481203,\n",
       "                          'FormSubmit': 8.35421888053467e-05,\n",
       "                          'EmailClickthrough': 0.0002506265664160401,\n",
       "                          'CustomerSupport': 0.0003341687552213868,\n",
       "                          'Purchase': 0.0003341687552213868}),\n",
       "             ('Purchase',\n",
       "              'WebVisit'): defaultdict(<function __main__.<lambda>.<locals>.<lambda>()>, {'EmailClickthrough': 0.12907540545059354,\n",
       "                          'Purchase': 0.08919913058017054,\n",
       "                          'EmailOpen': 0.44867079083765254,\n",
       "                          'PageView': 0.26642701889316167,\n",
       "                          'CustomerSupport': 0.057097475338572144,\n",
       "                          'FormSubmit': 0.009530178899849523}),\n",
       "             ('Purchase',\n",
       "              'PageView'): defaultdict(<function __main__.<lambda>.<locals>.<lambda>()>, {'WebVisit': 0.9142126789366053,\n",
       "                          'Purchase': 0.08558282208588958,\n",
       "                          'EmailClickthrough': 0.00010224948875255624,\n",
       "                          'EmailOpen': 0.00010224948875255624}),\n",
       "             ('WebVisit',\n",
       "              'CustomerSupport'): defaultdict(<function __main__.<lambda>.<locals>.<lambda>()>, {'EmailOpen': 0.4988399071925754,\n",
       "                          'PageView': 0.37587006960556846,\n",
       "                          'EmailClickthrough': 0.11020881670533643,\n",
       "                          'FormSubmit': 0.015081206496519721}),\n",
       "             ('EmailClickthrough',\n",
       "              'PageView'): defaultdict(<function __main__.<lambda>.<locals>.<lambda>()>, {'WebVisit': 0.9821974965229485,\n",
       "                          'PageView': 0.0002781641168289291,\n",
       "                          'Purchase': 0.016133518776077885,\n",
       "                          'EmailOpen': 0.0011126564673157164,\n",
       "                          'EmailClickthrough': 0.0002781641168289291}),\n",
       "             ('CustomerSupport',\n",
       "              'PageView'): defaultdict(<function __main__.<lambda>.<locals>.<lambda>()>, {'WebVisit': 0.9994438264738599,\n",
       "                          'EmailOpen': 0.0005561735261401557}),\n",
       "             ('FormSubmit',\n",
       "              'FormSubmit'): defaultdict(<function __main__.<lambda>.<locals>.<lambda>()>, {'EmailOpen': 0.3077966101694915,\n",
       "                          'EmailClickthrough': 0.08898305084745763,\n",
       "                          'PageView': 0.1564406779661017,\n",
       "                          'FormSubmit': 0.36694915254237287,\n",
       "                          'Purchase': 0.0611864406779661,\n",
       "                          'WebVisit': 0.01864406779661017}),\n",
       "             ('EmailClickthrough',\n",
       "              'Purchase'): defaultdict(<function __main__.<lambda>.<locals>.<lambda>()>, {'Purchase': 0.3787128712871287,\n",
       "                          'EmailOpen': 0.23564356435643563,\n",
       "                          'CustomerSupport': 0.15198019801980198,\n",
       "                          'EmailClickthrough': 0.19257425742574258,\n",
       "                          'PageView': 0.028712871287128714,\n",
       "                          'FormSubmit': 0.012376237623762377}),\n",
       "             ('EmailOpen',\n",
       "              'CustomerSupport'): defaultdict(<function __main__.<lambda>.<locals>.<lambda>()>, {'EmailOpen': 0.8790593505039194,\n",
       "                          'FormSubmit': 0.004479283314669653,\n",
       "                          'EmailClickthrough': 0.07726763717805152,\n",
       "                          'PageView': 0.03919372900335946}),\n",
       "             ('WebVisit',\n",
       "              'FormSubmit'): defaultdict(<function __main__.<lambda>.<locals>.<lambda>()>, {'PageView': 0.7947242879191806,\n",
       "                          'EmailOpen': 0.0722604181282447,\n",
       "                          'EmailClickthrough': 0.025256068472007856,\n",
       "                          'WebVisit': 0.06314017118001965,\n",
       "                          'FormSubmit': 0.029605724708853656,\n",
       "                          'Purchase': 0.01501332959169356}),\n",
       "             ('FormSubmit',\n",
       "              'WebVisit'): defaultdict(<function __main__.<lambda>.<locals>.<lambda>()>, {'EmailClickthrough': 0.10355253212396069,\n",
       "                          'PageView': 0.05215419501133787,\n",
       "                          'WebVisit': 0.0045351473922902496,\n",
       "                          'EmailOpen': 0.5321239606953893,\n",
       "                          'FormSubmit': 0.2751322751322751,\n",
       "                          'Purchase': 0.03250188964474679}),\n",
       "             ('CustomerSupport',\n",
       "              'FormSubmit'): defaultdict(<function __main__.<lambda>.<locals>.<lambda>()>, {'PageView': 0.3882978723404255,\n",
       "                          'EmailClickthrough': 0.0726950354609929,\n",
       "                          'EmailOpen': 0.36524822695035464,\n",
       "                          'WebVisit': 0.05673758865248227,\n",
       "                          'FormSubmit': 0.11702127659574468}),\n",
       "             ('WebVisit',\n",
       "              'WebVisit'): defaultdict(<function __main__.<lambda>.<locals>.<lambda>()>, {'EmailOpen': 0.11538461538461539,\n",
       "                          'WebVisit': 0.5384615384615384,\n",
       "                          'EmailClickthrough': 0.057692307692307696,\n",
       "                          'PageView': 0.25,\n",
       "                          'FormSubmit': 0.019230769230769232,\n",
       "                          'Purchase': 0.019230769230769232}),\n",
       "             ('PageView',\n",
       "              'PageView'): defaultdict(<function __main__.<lambda>.<locals>.<lambda>()>, {'WebVisit': 0.9077490774907749,\n",
       "                          'EmailOpen': 0.01107011070110701,\n",
       "                          'Purchase': 0.02952029520295203,\n",
       "                          'PageView': 0.04797047970479705,\n",
       "                          'FormSubmit': 0.0036900369003690036}),\n",
       "             ('FormSubmit',\n",
       "              'CustomerSupport'): defaultdict(<function __main__.<lambda>.<locals>.<lambda>()>, {'EmailOpen': 0.7058823529411765,\n",
       "                          'EmailClickthrough': 0.17647058823529413,\n",
       "                          'PageView': 0.058823529411764705,\n",
       "                          'FormSubmit': 0.058823529411764705}),\n",
       "             ('PageView',\n",
       "              'EmailOpen'): defaultdict(<function __main__.<lambda>.<locals>.<lambda>()>, {'PageView': 0.3349282296650718,\n",
       "                          'EmailClickthrough': 0.11004784688995216,\n",
       "                          'Purchase': 0.04784688995215311,\n",
       "                          'EmailOpen': 0.47368421052631576,\n",
       "                          'FormSubmit': 0.03349282296650718}),\n",
       "             ('PageView',\n",
       "              'EmailClickthrough'): defaultdict(<function __main__.<lambda>.<locals>.<lambda>()>, {'EmailOpen': 0.9074074074074074,\n",
       "                          'PageView': 0.05555555555555555,\n",
       "                          'EmailClickthrough': 0.018518518518518517,\n",
       "                          'FormSubmit': 0.018518518518518517}),\n",
       "             ('EmailOpen',\n",
       "              'WebVisit'): defaultdict(<function __main__.<lambda>.<locals>.<lambda>()>, {'EmailOpen': 0.5365853658536586,\n",
       "                          'Purchase': 0.024390243902439025,\n",
       "                          'PageView': 0.24390243902439024,\n",
       "                          'FormSubmit': 0.024390243902439025,\n",
       "                          'EmailClickthrough': 0.17073170731707318}),\n",
       "             ('EmailClickthrough',\n",
       "              'CustomerSupport'): defaultdict(<function __main__.<lambda>.<locals>.<lambda>()>, {'EmailClickthrough': 0.2,\n",
       "                          'EmailOpen': 0.8}),\n",
       "             ('PageView',\n",
       "              'FormSubmit'): defaultdict(<function __main__.<lambda>.<locals>.<lambda>()>, {'EmailClickthrough': 0.08333333333333333,\n",
       "                          'FormSubmit': 0.08333333333333333,\n",
       "                          'PageView': 0.75,\n",
       "                          'EmailOpen': 0.08333333333333333})})"
      ]
     },
     "execution_count": 70,
     "metadata": {},
     "output_type": "execute_result"
    }
   ],
   "source": [
    "trimodel"
   ]
  },
  {
   "cell_type": "code",
   "execution_count": 80,
   "id": "03bf997b",
   "metadata": {},
   "outputs": [
    {
     "data": {
      "text/plain": [
       "'EmailOpen'"
      ]
     },
     "execution_count": 80,
     "metadata": {},
     "output_type": "execute_result"
    }
   ],
   "source": [
    "w1"
   ]
  },
  {
   "cell_type": "code",
   "execution_count": 81,
   "id": "02dc65d3",
   "metadata": {},
   "outputs": [
    {
     "data": {
      "text/plain": [
       "'EmailOpen'"
      ]
     },
     "execution_count": 81,
     "metadata": {},
     "output_type": "execute_result"
    }
   ],
   "source": [
    "w2"
   ]
  },
  {
   "cell_type": "code",
   "execution_count": 84,
   "id": "d6d74a6d",
   "metadata": {},
   "outputs": [
    {
     "data": {
      "text/plain": [
       "0.887017992393409"
      ]
     },
     "execution_count": 84,
     "metadata": {},
     "output_type": "execute_result"
    }
   ],
   "source": [
    "trimodel[(w1, w2)][w3]"
   ]
  },
  {
   "cell_type": "code",
   "execution_count": 97,
   "id": "0a3a1349",
   "metadata": {},
   "outputs": [
    {
     "name": "stderr",
     "output_type": "stream",
     "text": [
      "  0%|                                                                            | 2/341568 [00:00<19:33:01,  4.85it/s]"
     ]
    },
    {
     "name": "stdout",
     "output_type": "stream",
     "text": [
      "00002acbe042d69\n",
      "Original word: EmailOpen, Predicted Word: EmailOpen\n",
      "Original word: EmailOpen, Predicted Word: EmailOpen\n",
      "Original word: EmailOpen, Predicted Word: EmailOpen\n",
      "Original word: EmailOpen, Predicted Word: EmailOpen\n",
      "Original word: EmailOpen, Predicted Word: EmailOpen\n",
      "Original word: EmailOpen, Predicted Word: EmailOpen\n",
      "Original word: EmailOpen, Predicted Word: EmailOpen\n",
      "Original word: EmailOpen, Predicted Word: EmailOpen\n",
      "0000a3a34bd07e6\n",
      "Original word: EmailOpen, Predicted Word: EmailOpen\n",
      "Original word: EmailOpen, Predicted Word: EmailOpen\n",
      "Original word: EmailOpen, Predicted Word: EmailOpen\n",
      "Original word: EmailOpen, Predicted Word: EmailOpen\n",
      "Original word: EmailOpen, Predicted Word: EmailOpen\n",
      "Original word: EmailOpen, Predicted Word: EmailOpen\n",
      "Original word: EmailOpen, Predicted Word: EmailOpen\n",
      "Original word: EmailOpen, Predicted Word: EmailOpen\n",
      "Original word: EmailOpen, Predicted Word: EmailOpen\n",
      "Original word: EmailOpen, Predicted Word: EmailOpen\n",
      "Original word: EmailOpen, Predicted Word: EmailOpen\n",
      "Original word: EmailOpen, Predicted Word: EmailOpen\n",
      "Original word: EmailOpen, Predicted Word: EmailOpen\n",
      "Original word: EmailOpen, Predicted Word: EmailOpen\n",
      "Original word: EmailOpen, Predicted Word: EmailOpen\n",
      "Original word: EmailOpen, Predicted Word: EmailOpen\n",
      "Original word: EmailOpen, Predicted Word: EmailOpen\n",
      "Original word: EmailOpen, Predicted Word: EmailOpen\n",
      "0000ecf58c94668\n",
      "Original word: Purchase, Predicted Word: Purchase\n",
      "Original word: EmailClickthrough, Predicted Word: Purchase\n",
      "Original word: FormSubmit, Predicted Word: EmailOpen\n",
      "Original word: EmailOpen, Predicted Word: EmailOpen\n",
      "Original word: Purchase, Predicted Word: EmailOpen\n",
      "Original word: Purchase, Predicted Word: EmailOpen\n",
      "Original word: EmailOpen, Predicted Word: Purchase\n",
      "Original word: EmailOpen, Predicted Word: EmailOpen\n",
      "Original word: Purchase, Predicted Word: EmailOpen\n",
      "Original word: CustomerSupport, Predicted Word: EmailOpen\n",
      "Original word: EmailOpen, Predicted Word: EmailOpen\n",
      "Original word: EmailOpen, Predicted Word: EmailOpen\n",
      "Original word: EmailOpen, Predicted Word: EmailOpen\n",
      "Original word: EmailOpen, Predicted Word: EmailOpen\n",
      "Original word: EmailOpen, Predicted Word: EmailOpen\n",
      "Original word: EmailOpen, Predicted Word: EmailOpen\n",
      "Original word: EmailOpen, Predicted Word: EmailOpen\n",
      "Original word: EmailOpen, Predicted Word: EmailOpen\n"
     ]
    },
    {
     "name": "stderr",
     "output_type": "stream",
     "text": [
      "\n"
     ]
    }
   ],
   "source": [
    "i = 0\n",
    "for k, gp in tqdm(gps):\n",
    "    if len(gp) > 2:\n",
    "        print(k)\n",
    "        tgrams = trigrams(gp.action.values)\n",
    "        for w1, w2, w3 in tgrams:\n",
    "            print(f\"Original word: {w3}, Predicted Word: {max(trimodel[(w1, w2)], key=lambda x: trimodel[(w1, w2)][x])}\")\n",
    "            \n",
    "    if i == 2:\n",
    "        break\n",
    "        \n",
    "    i += 1"
   ]
  },
  {
   "cell_type": "code",
   "execution_count": 92,
   "id": "82e8de07",
   "metadata": {},
   "outputs": [
    {
     "data": {
      "text/plain": [
       "defaultdict(<function __main__.<lambda>.<locals>.<lambda>()>,\n",
       "            {'EmailOpen': 0.4432190367475963,\n",
       "             'PageView': 0.38726785792685603,\n",
       "             'EmailClickthrough': 0.09658866400316109,\n",
       "             'Purchase': 0.04585327303859156,\n",
       "             'FormSubmit': 0.018905035781709618,\n",
       "             'WebVisit': 0.00809588620099223,\n",
       "             'CustomerSupport': 7.024630109320806e-05})"
      ]
     },
     "execution_count": 92,
     "metadata": {},
     "output_type": "execute_result"
    }
   ],
   "source": [
    "trimodel[(w1, w2)]"
   ]
  },
  {
   "cell_type": "code",
   "execution_count": 94,
   "id": "6730ecb4",
   "metadata": {},
   "outputs": [
    {
     "data": {
      "text/plain": [
       "'EmailOpen'"
      ]
     },
     "execution_count": 94,
     "metadata": {},
     "output_type": "execute_result"
    }
   ],
   "source": [
    "max(trimodel[(w1, w2)], key=lambda x: trimodel[(w1, w2)][x])"
   ]
  },
  {
   "cell_type": "code",
   "execution_count": 79,
   "id": "52c93033",
   "metadata": {},
   "outputs": [
    {
     "data": {
      "text/plain": [
       "dict_keys([('EmailOpen', 'FormSubmit'), ('FormSubmit', 'EmailOpen'), ('EmailOpen', 'EmailOpen'), ('Purchase', 'Purchase'), ('Purchase', 'EmailClickthrough'), ('EmailClickthrough', 'FormSubmit'), ('EmailOpen', 'Purchase'), ('Purchase', 'EmailOpen'), ('Purchase', 'CustomerSupport'), ('CustomerSupport', 'EmailOpen'), ('EmailOpen', 'EmailClickthrough'), ('EmailClickthrough', 'EmailOpen'), ('EmailOpen', 'PageView'), ('PageView', 'WebVisit'), ('FormSubmit', 'PageView'), ('FormSubmit', 'EmailClickthrough'), ('FormSubmit', 'Purchase'), ('WebVisit', 'Purchase'), ('WebVisit', 'EmailOpen'), ('CustomerSupport', 'EmailClickthrough'), ('EmailClickthrough', 'EmailClickthrough'), ('WebVisit', 'PageView'), ('WebVisit', 'EmailClickthrough'), ('Purchase', 'FormSubmit'), ('PageView', 'Purchase'), ('Purchase', 'WebVisit'), ('Purchase', 'PageView'), ('WebVisit', 'CustomerSupport'), ('EmailClickthrough', 'PageView'), ('CustomerSupport', 'PageView'), ('FormSubmit', 'FormSubmit'), ('EmailClickthrough', 'Purchase'), ('EmailOpen', 'CustomerSupport'), ('WebVisit', 'FormSubmit'), ('FormSubmit', 'WebVisit'), ('CustomerSupport', 'FormSubmit'), ('WebVisit', 'WebVisit'), ('PageView', 'PageView'), ('FormSubmit', 'CustomerSupport'), ('PageView', 'EmailOpen'), ('PageView', 'EmailClickthrough'), ('EmailOpen', 'WebVisit'), ('EmailClickthrough', 'CustomerSupport'), ('PageView', 'FormSubmit')])"
      ]
     },
     "execution_count": 79,
     "metadata": {},
     "output_type": "execute_result"
    }
   ],
   "source": [
    "trimodel.keys()"
   ]
  },
  {
   "cell_type": "code",
   "execution_count": 22,
   "id": "b9d826e1",
   "metadata": {},
   "outputs": [
    {
     "name": "stderr",
     "output_type": "stream",
     "text": [
      "C:\\Users\\acer\\anaconda3\\lib\\site-packages\\numpy\\lib\\function_base.py:2634: RuntimeWarning: Degrees of freedom <= 0 for slice\n",
      "  c = cov(x, y, rowvar, dtype=dtype)\n",
      "C:\\Users\\acer\\anaconda3\\lib\\site-packages\\numpy\\lib\\function_base.py:2493: RuntimeWarning: divide by zero encountered in true_divide\n",
      "  c *= np.true_divide(1, fact)\n"
     ]
    },
    {
     "data": {
      "text/html": [
       "<div>\n",
       "<style scoped>\n",
       "    .dataframe tbody tr th:only-of-type {\n",
       "        vertical-align: middle;\n",
       "    }\n",
       "\n",
       "    .dataframe tbody tr th {\n",
       "        vertical-align: top;\n",
       "    }\n",
       "\n",
       "    .dataframe thead th {\n",
       "        text-align: right;\n",
       "    }\n",
       "</style>\n",
       "<table border=\"1\" class=\"dataframe\">\n",
       "  <thead>\n",
       "    <tr style=\"text-align: right;\">\n",
       "      <th></th>\n",
       "      <th>u_id</th>\n",
       "      <th>autocorrelation</th>\n",
       "    </tr>\n",
       "  </thead>\n",
       "  <tbody>\n",
       "    <tr>\n",
       "      <th>0</th>\n",
       "      <td>00002acbe042d69</td>\n",
       "      <td>-0.125000</td>\n",
       "    </tr>\n",
       "    <tr>\n",
       "      <th>1</th>\n",
       "      <td>0000a3a34bd07e6</td>\n",
       "      <td>NaN</td>\n",
       "    </tr>\n",
       "    <tr>\n",
       "      <th>2</th>\n",
       "      <td>0000ecf58c94668</td>\n",
       "      <td>0.347273</td>\n",
       "    </tr>\n",
       "    <tr>\n",
       "      <th>3</th>\n",
       "      <td>00012205dd4613b</td>\n",
       "      <td>NaN</td>\n",
       "    </tr>\n",
       "    <tr>\n",
       "      <th>4</th>\n",
       "      <td>000198d39a568cf</td>\n",
       "      <td>NaN</td>\n",
       "    </tr>\n",
       "    <tr>\n",
       "      <th>...</th>\n",
       "      <td>...</td>\n",
       "      <td>...</td>\n",
       "    </tr>\n",
       "    <tr>\n",
       "      <th>341563</th>\n",
       "      <td>ffffa46241fb077</td>\n",
       "      <td>NaN</td>\n",
       "    </tr>\n",
       "    <tr>\n",
       "      <th>341564</th>\n",
       "      <td>ffffa4cc0190881</td>\n",
       "      <td>NaN</td>\n",
       "    </tr>\n",
       "    <tr>\n",
       "      <th>341565</th>\n",
       "      <td>ffffa7beb541707</td>\n",
       "      <td>-1.000000</td>\n",
       "    </tr>\n",
       "    <tr>\n",
       "      <th>341566</th>\n",
       "      <td>ffffecdd8dc6174</td>\n",
       "      <td>NaN</td>\n",
       "    </tr>\n",
       "    <tr>\n",
       "      <th>341567</th>\n",
       "      <td>fffff031760c3f5</td>\n",
       "      <td>NaN</td>\n",
       "    </tr>\n",
       "  </tbody>\n",
       "</table>\n",
       "<p>341568 rows × 2 columns</p>\n",
       "</div>"
      ],
      "text/plain": [
       "                   u_id  autocorrelation\n",
       "0       00002acbe042d69        -0.125000\n",
       "1       0000a3a34bd07e6              NaN\n",
       "2       0000ecf58c94668         0.347273\n",
       "3       00012205dd4613b              NaN\n",
       "4       000198d39a568cf              NaN\n",
       "...                 ...              ...\n",
       "341563  ffffa46241fb077              NaN\n",
       "341564  ffffa4cc0190881              NaN\n",
       "341565  ffffa7beb541707        -1.000000\n",
       "341566  ffffecdd8dc6174              NaN\n",
       "341567  fffff031760c3f5              NaN\n",
       "\n",
       "[341568 rows x 2 columns]"
      ]
     },
     "execution_count": 22,
     "metadata": {},
     "output_type": "execute_result"
    }
   ],
   "source": [
    "autocorr = groups['action'].apply(pd.Series.autocorr).reset_index(name='autocorrelation')"
   ]
  },
  {
   "cell_type": "code",
   "execution_count": 29,
   "id": "89955fb5",
   "metadata": {},
   "outputs": [
    {
     "data": {
      "text/plain": [
       "u_id                    0\n",
       "autocorrelation    238041\n",
       "dtype: int64"
      ]
     },
     "execution_count": 29,
     "metadata": {},
     "output_type": "execute_result"
    }
   ],
   "source": [
    "autocorr.isna().sum()"
   ]
  },
  {
   "cell_type": "code",
   "execution_count": 21,
   "id": "918b8df2",
   "metadata": {},
   "outputs": [
    {
     "name": "stdout",
     "output_type": "stream",
     "text": [
      "00002acbe042d69\n",
      "              u_id       date  action\n",
      "0  00002acbe042d69 2013-07-11       0\n",
      "1  00002acbe042d69 2013-07-11       1\n",
      "2  00002acbe042d69 2013-07-15       0\n",
      "3  00002acbe042d69 2013-07-17       0\n",
      "4  00002acbe042d69 2013-07-18       0\n",
      "5  00002acbe042d69 2013-07-25       0\n",
      "6  00002acbe042d69 2013-07-26       0\n",
      "7  00002acbe042d69 2013-08-01       0\n",
      "8  00002acbe042d69 2013-08-05       0\n",
      "9  00002acbe042d69 2013-08-12       0\n"
     ]
    }
   ],
   "source": [
    "for k, gp in groups:\n",
    "    print(k)\n",
    "    print(gp)\n",
    "    break"
   ]
  },
  {
   "cell_type": "code",
   "execution_count": 23,
   "id": "230ed0f2",
   "metadata": {},
   "outputs": [
    {
     "data": {
      "text/html": [
       "<div>\n",
       "<style scoped>\n",
       "    .dataframe tbody tr th:only-of-type {\n",
       "        vertical-align: middle;\n",
       "    }\n",
       "\n",
       "    .dataframe tbody tr th {\n",
       "        vertical-align: top;\n",
       "    }\n",
       "\n",
       "    .dataframe thead th {\n",
       "        text-align: right;\n",
       "    }\n",
       "</style>\n",
       "<table border=\"1\" class=\"dataframe\">\n",
       "  <thead>\n",
       "    <tr style=\"text-align: right;\">\n",
       "      <th></th>\n",
       "      <th>date</th>\n",
       "      <th>action</th>\n",
       "    </tr>\n",
       "    <tr>\n",
       "      <th>u_id</th>\n",
       "      <th></th>\n",
       "      <th></th>\n",
       "    </tr>\n",
       "  </thead>\n",
       "  <tbody>\n",
       "    <tr>\n",
       "      <th>00002acbe042d69</th>\n",
       "      <td>2013-07-11</td>\n",
       "      <td>EmailOpen</td>\n",
       "    </tr>\n",
       "    <tr>\n",
       "      <th>00002acbe042d69</th>\n",
       "      <td>2013-07-11</td>\n",
       "      <td>FormSubmit</td>\n",
       "    </tr>\n",
       "    <tr>\n",
       "      <th>00002acbe042d69</th>\n",
       "      <td>2013-07-15</td>\n",
       "      <td>EmailOpen</td>\n",
       "    </tr>\n",
       "    <tr>\n",
       "      <th>00002acbe042d69</th>\n",
       "      <td>2013-07-17</td>\n",
       "      <td>EmailOpen</td>\n",
       "    </tr>\n",
       "    <tr>\n",
       "      <th>00002acbe042d69</th>\n",
       "      <td>2013-07-18</td>\n",
       "      <td>EmailOpen</td>\n",
       "    </tr>\n",
       "    <tr>\n",
       "      <th>...</th>\n",
       "      <td>...</td>\n",
       "      <td>...</td>\n",
       "    </tr>\n",
       "    <tr>\n",
       "      <th>fffff031760c3f5</th>\n",
       "      <td>2014-06-24</td>\n",
       "      <td>EmailOpen</td>\n",
       "    </tr>\n",
       "    <tr>\n",
       "      <th>fffff031760c3f5</th>\n",
       "      <td>2014-06-25</td>\n",
       "      <td>EmailOpen</td>\n",
       "    </tr>\n",
       "    <tr>\n",
       "      <th>fffff031760c3f5</th>\n",
       "      <td>2014-07-02</td>\n",
       "      <td>EmailOpen</td>\n",
       "    </tr>\n",
       "    <tr>\n",
       "      <th>fffff031760c3f5</th>\n",
       "      <td>2014-08-11</td>\n",
       "      <td>EmailOpen</td>\n",
       "    </tr>\n",
       "    <tr>\n",
       "      <th>fffff031760c3f5</th>\n",
       "      <td>2014-08-21</td>\n",
       "      <td>EmailOpen</td>\n",
       "    </tr>\n",
       "  </tbody>\n",
       "</table>\n",
       "<p>4918677 rows × 2 columns</p>\n",
       "</div>"
      ],
      "text/plain": [
       "                      date      action\n",
       "u_id                                  \n",
       "00002acbe042d69 2013-07-11   EmailOpen\n",
       "00002acbe042d69 2013-07-11  FormSubmit\n",
       "00002acbe042d69 2013-07-15   EmailOpen\n",
       "00002acbe042d69 2013-07-17   EmailOpen\n",
       "00002acbe042d69 2013-07-18   EmailOpen\n",
       "...                    ...         ...\n",
       "fffff031760c3f5 2014-06-24   EmailOpen\n",
       "fffff031760c3f5 2014-06-25   EmailOpen\n",
       "fffff031760c3f5 2014-07-02   EmailOpen\n",
       "fffff031760c3f5 2014-08-11   EmailOpen\n",
       "fffff031760c3f5 2014-08-21   EmailOpen\n",
       "\n",
       "[4918677 rows x 2 columns]"
      ]
     },
     "execution_count": 23,
     "metadata": {},
     "output_type": "execute_result"
    }
   ],
   "source": [
    "df.set_index('u_id', )"
   ]
  },
  {
   "cell_type": "code",
   "execution_count": 25,
   "id": "fa2bafab",
   "metadata": {},
   "outputs": [
    {
     "data": {
      "text/plain": [
       "RangeIndex(start=0, stop=4918677, step=1)"
      ]
     },
     "execution_count": 25,
     "metadata": {},
     "output_type": "execute_result"
    }
   ],
   "source": [
    "df.index"
   ]
  },
  {
   "cell_type": "code",
   "execution_count": null,
   "id": "52101481",
   "metadata": {},
   "outputs": [],
   "source": []
  }
 ],
 "metadata": {
  "kernelspec": {
   "display_name": "Python 3",
   "language": "python",
   "name": "python3"
  },
  "language_info": {
   "codemirror_mode": {
    "name": "ipython",
    "version": 3
   },
   "file_extension": ".py",
   "mimetype": "text/x-python",
   "name": "python",
   "nbconvert_exporter": "python",
   "pygments_lexer": "ipython3",
   "version": "3.8.8"
  }
 },
 "nbformat": 4,
 "nbformat_minor": 5
}
